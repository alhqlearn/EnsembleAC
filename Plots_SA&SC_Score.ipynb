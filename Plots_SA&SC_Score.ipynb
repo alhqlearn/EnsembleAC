{
 "cells": [
  {
   "cell_type": "code",
   "execution_count": null,
   "id": "fd939cec-0a3f-459d-9ccd-bdadd03b1186",
   "metadata": {
    "tags": []
   },
   "outputs": [],
   "source": [
    "import pandas as pd\n",
    "from rdkit import Chem\n",
    "from rdkit import rdBase\n",
    "from rdkit.Chem import Draw, AllChem\n",
    "from IPython.display import display,Image, SVG\n",
    "from rdkit.Chem import rdmolops\n",
    "rdBase.DisableLog('rdApp.error')\n",
    "import seaborn as sns\n",
    "import matplotlib.pyplot as plt"
   ]
  },
  {
   "cell_type": "code",
   "execution_count": null,
   "id": "9a531dbe-c290-4a66-82c9-4509a0ee8ed1",
   "metadata": {
    "tags": []
   },
   "outputs": [],
   "source": [
    "import numpy as np\n",
    "from tqdm import tqdm, trange\n",
    "import pickle\n",
    "from rdkit import Chem, DataStructs"
   ]
  },
  {
   "cell_type": "code",
   "execution_count": null,
   "id": "72c71b15-c098-4877-8ea0-528ae1170c50",
   "metadata": {
    "tags": []
   },
   "outputs": [],
   "source": [
    "import sys\n",
    "sys.path.append('./scscore')\n",
    "sys.path.append('./scscore/scscore')"
   ]
  },
  {
   "cell_type": "code",
   "execution_count": null,
   "id": "8947e52d-3a0b-4136-974d-55a15c4c0d75",
   "metadata": {
    "tags": []
   },
   "outputs": [],
   "source": [
    "import os\n",
    "from rdkit.Chem import RDConfig\n",
    "sys.path.append(os.path.join(RDConfig.RDContribDir, 'SA_Score'))\n",
    "import sascorer"
   ]
  },
  {
   "cell_type": "code",
   "execution_count": null,
   "id": "cc2627d1-d6df-4dd6-9ab4-c4a35be46753",
   "metadata": {
    "tags": []
   },
   "outputs": [],
   "source": [
    "import standalone_model_numpy\n",
    "from standalone_model_numpy import SCScorer\n",
    "scscore_model = SCScorer()\n",
    "scscore_model.restore('./scscore/model.ckpt-10654.as_numpy.json.gz')"
   ]
  },
  {
   "cell_type": "code",
   "execution_count": null,
   "id": "221d4d14",
   "metadata": {},
   "outputs": [],
   "source": [
    "df_generated = pd.read_csv('./results/generative_model/Generated_Practical_Set.csv')\n",
    "exp_smiles = pd.read_csv('./data/Experimental_Ligands.csv')"
   ]
  },
  {
   "cell_type": "code",
   "execution_count": null,
   "id": "13e22cbf",
   "metadata": {},
   "outputs": [],
   "source": [
    "exp_smiles_list = list(exp_smiles['smiles'])\n",
    "print('Number of real molecules :', len(exp_smiles_list))\n",
    "df_generated_list = list(df_generated['smiles'])\n",
    "print('Number of generated molecules :', len(df_generated_list))"
   ]
  },
  {
   "cell_type": "code",
   "execution_count": null,
   "id": "333b6937-21f8-4f2f-b2a2-0ecc15dd0026",
   "metadata": {
    "tags": []
   },
   "outputs": [],
   "source": [
    "scscore_gen = []\n",
    "sascore_gen = []\n",
    "\n",
    "for i in range(len(df_generated_list)):\n",
    "    sm, score = scscore_model.get_score_from_smi(df_generated_list[i])\n",
    "    sascore = sascorer.calculateScore(Chem.MolFromSmiles(df_generated_list[i]))\n",
    "    sascore_gen.append(sascore)\n",
    "    scscore_gen.append(score)\n",
    "\n",
    "scscore_real = []\n",
    "sascore_real = []\n",
    "\n",
    "for i in range(len(exp_smiles_list)):\n",
    "    sm, score = scscore_model.get_score_from_smi(exp_smiles_list[i])\n",
    "    sascore = sascorer.calculateScore(Chem.MolFromSmiles(exp_smiles_list[i]))\n",
    "    sascore_real.append(sascore)\n",
    "    scscore_real.append(score)\n",
    "\n",
    "#scs_plot\n",
    "\n",
    "#fig, ax = plt.subplots\n",
    "plt.figure(figsize=(6, 4))\n",
    "p1 = sns.kdeplot(scscore_real,  fill=True, label=str(np.round(np.mean(scscore_real),2)), linewidth=3,alpha=.5) # 'Experimental = ' +color='red',\n",
    "p1 = sns.kdeplot(scscore_gen,  fill=True, label=str(np.round(np.mean(scscore_gen),2)), linewidth=3,alpha=.5) #'Generated = ' + color='Green',\n",
    "#p1.set(xlabel='Synthetic Complexeity Score', title='Distribution of SC Score for generated molecules')\n",
    "p1.legend(bbox_to_anchor=(1.00, 1.00), loc='best', fontsize=12)\n",
    "p1.set_xlabel('Synthetic complexeity score', fontsize=14)  # Adjust the font size as needed\n",
    "p1.set_ylabel('Density', fontsize=14)  # Adjust the font size as needed\n",
    "plt.tight_layout()\n",
    "plt.savefig('./results/SCSCORE_experimental_vs_generated.png',dpi = 600)\n",
    "plt.show()\n",
    "\n",
    "#sas_plot\n",
    "#fig2, ax2 = plt.subplots()\n",
    "plt.figure(figsize=(6, 4))\n",
    "p2 = sns.kdeplot(sascore_gen,  fill=True, label= str(np.round(np.mean(sascore_gen),2)), linewidth=3,alpha=.5) # 'Generated = ' + color='Green',\n",
    "p2 = sns.kdeplot(sascore_real, fill=True, label= str(np.round(np.mean(sascore_real),2)), linewidth=3,alpha=.5) #'Experimental = ' +color='red', \n",
    "#p2.set(xlabel='Synthetic Acessibility Score', title='Distribution of SA Score for generated molecules')\n",
    "p2.legend(bbox_to_anchor=(1.00, 1.00), loc='best',fontsize=12)\n",
    "p2.set_xlabel('Synthetic acessibility score', fontsize=14)  # Adjust the font size as needed\n",
    "p2.set_ylabel('Density', fontsize=14)  # Adjust the font size as needed\n",
    "plt.tight_layout()\n",
    "plt.savefig('./results/SAS_experimental_vs_generated.png',dpi = 600)\n",
    "plt.show()"
   ]
  },
  {
   "cell_type": "code",
   "execution_count": null,
   "id": "bf92aea2-91bd-4650-9979-90f8b0afeb27",
   "metadata": {},
   "outputs": [],
   "source": []
  }
 ],
 "metadata": {
  "kernelspec": {
   "display_name": "re-explore",
   "language": "python",
   "name": "re-explore"
  },
  "language_info": {
   "codemirror_mode": {
    "name": "ipython",
    "version": 3
   },
   "file_extension": ".py",
   "mimetype": "text/x-python",
   "name": "python",
   "nbconvert_exporter": "python",
   "pygments_lexer": "ipython3",
   "version": "3.7.12"
  }
 },
 "nbformat": 4,
 "nbformat_minor": 5
}
